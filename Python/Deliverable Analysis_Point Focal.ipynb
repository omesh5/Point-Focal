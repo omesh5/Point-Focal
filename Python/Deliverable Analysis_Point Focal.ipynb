{
 "cells": [
  {
   "cell_type": "code",
   "execution_count": 1,
   "metadata": {},
   "outputs": [],
   "source": [
    "import pandas as pd\n",
    "import numpy as np\n",
    "import matplotlib.pyplot as plt\n",
    "import datetime as dt\n",
    "from sklearn.cluster import KMeans\n",
    "from sklearn.preprocessing import MinMaxScaler"
   ]
  },
  {
   "cell_type": "code",
   "execution_count": 2,
   "metadata": {},
   "outputs": [],
   "source": [
    "pf1 = pd.read_excel('C:/Users/omesh/Desktop/CAPSTONE/Estimize.xlsx')"
   ]
  },
  {
   "cell_type": "code",
   "execution_count": 3,
   "metadata": {},
   "outputs": [],
   "source": [
    "pf2 = pd.read_excel('C:/Users/omesh/Downloads/moreEstimizeReleases.xlsx')"
   ]
  },
  {
   "cell_type": "code",
   "execution_count": 4,
   "metadata": {},
   "outputs": [],
   "source": [
    "earning_spz = ((pf1['ACT EPS'] - pf1['ESZ EPS Est']) / abs(pf1['ESZ EPS Est'])) * 100"
   ]
  },
  {
   "cell_type": "code",
   "execution_count": 5,
   "metadata": {},
   "outputs": [
    {
     "data": {
      "text/plain": [
       "(2158,)"
      ]
     },
     "execution_count": 5,
     "metadata": {},
     "output_type": "execute_result"
    }
   ],
   "source": [
    "earning_spz.shape"
   ]
  },
  {
   "cell_type": "code",
   "execution_count": 6,
   "metadata": {},
   "outputs": [],
   "source": [
    "earning_spz = pd.Series(earning_spz, name = 'Earnings Surprise %').to_frame()"
   ]
  },
  {
   "cell_type": "code",
   "execution_count": 7,
   "metadata": {},
   "outputs": [],
   "source": [
    "pf1 = pd.concat([pf1, earning_spz], axis = 1, join = 'outer')"
   ]
  },
  {
   "cell_type": "code",
   "execution_count": 8,
   "metadata": {},
   "outputs": [],
   "source": [
    "pf1 = pf1.drop(pf1[pf1.shortName == 'setup'].index)"
   ]
  },
  {
   "cell_type": "code",
   "execution_count": 15,
   "metadata": {},
   "outputs": [],
   "source": [
    "pf1 = pf1.drop(pf1[pf1.ID == '4f066ccec6efa653ac00ec8c'].index)"
   ]
  },
  {
   "cell_type": "code",
   "execution_count": 9,
   "metadata": {},
   "outputs": [],
   "source": [
    "pf1['Release Date'] = pd.to_datetime(pf1['Release Date'])"
   ]
  },
  {
   "cell_type": "code",
   "execution_count": 10,
   "metadata": {},
   "outputs": [
    {
     "data": {
      "text/plain": [
       "(2150, 24)"
      ]
     },
     "execution_count": 10,
     "metadata": {},
     "output_type": "execute_result"
    }
   ],
   "source": [
    "pf1.shape"
   ]
  },
  {
   "cell_type": "code",
   "execution_count": 11,
   "metadata": {},
   "outputs": [],
   "source": [
    "pf1 = pf1[pf1['Earnings Surprise %'].notnull()]"
   ]
  },
  {
   "cell_type": "code",
   "execution_count": 13,
   "metadata": {},
   "outputs": [
    {
     "name": "stdout",
     "output_type": "stream",
     "text": [
      "Fiscal Year                   float64\n",
      "Fiscal Quarter                float64\n",
      "ACT EPS                       float64\n",
      "WS EPS Est                    float64\n",
      "ESZ EPS Est                   float64\n",
      "Release Date           datetime64[ns]\n",
      "ID                             object\n",
      "symbol                         object\n",
      "fiscalDate                     object\n",
      "Actual EPS vs WS               object\n",
      "WS EPS Dif                    float64\n",
      "WS EPS % Dif                  float64\n",
      "Actual EPS vs ESZ              object\n",
      "ESZ EPS Dif                   float64\n",
      "ESZ EPS % Dif                 float64\n",
      "close                         float64\n",
      "Per1d                         float64\n",
      "Per2d                         float64\n",
      "Per3d                         float64\n",
      "Per5d                         float64\n",
      "shortName                      object\n",
      "refSectorShort                 object\n",
      "mktCap                         object\n",
      "Earnings Surprise %           float64\n",
      "dtype: object\n"
     ]
    },
    {
     "data": {
      "text/plain": [
       "Fiscal Year                      int64\n",
       "Fiscal Quarter                   int64\n",
       "ACT EPS                        float64\n",
       "ACT Revenue                    float64\n",
       "ESZ EPS Est UW                 float64\n",
       "ESZ REV Est UW                 float64\n",
       "WS REV Est                     float64\n",
       "WS EPS Est                     float64\n",
       "ESZ REV Est                    float64\n",
       "ESZ EPS Est                    float64\n",
       "Release Date                    object\n",
       "ID                               int64\n",
       "Symbol                          object\n",
       "Actual +/- WS                  float64\n",
       "Actual - WS EPS EST            float64\n",
       "rankNextRelease                float64\n",
       "nextRelease                    float64\n",
       "listName                        object\n",
       "rankLastRelease                float64\n",
       "nextWsEpsEst                   float64\n",
       "nextEszEpsEst                  float64\n",
       "nextWsRevEst                   float64\n",
       "nextEszRevEst                  float64\n",
       "lastActEPS                     float64\n",
       "lastActRev                     float64\n",
       "countReleases                    int64\n",
       "prepCountBeatWsEPS             float64\n",
       "countBeatWsEPS                   int64\n",
       "avgEPSvsWsByState              float64\n",
       "prepAvgBeatWsEPS               float64\n",
       "avgBeatWsEPS                   float64\n",
       "prepCountBeatEszEPS            float64\n",
       "countBeatEszEPS                  int64\n",
       "avgEPSvsEszbyState             float64\n",
       "prepAvgBeatEszEPS              float64\n",
       "avgBeatEszEPS                  float64\n",
       "nextFiscalDate                 float64\n",
       "Actual - ESZ EPS EST           float64\n",
       "lastRelease                    float64\n",
       "markNextRelease                float64\n",
       "eszWsEpsDelta                  float64\n",
       "TimeNow                 datetime64[ns]\n",
       "releaseDate1m           datetime64[ns]\n",
       "resultStatus                   float64\n",
       "nextEszWSDelta                 float64\n",
       "ESZ Delta                      float64\n",
       "ESZ Delta %                    float64\n",
       "coverage                       float64\n",
       "EPS Estimate Delta             float64\n",
       "dtype: object"
      ]
     },
     "execution_count": 13,
     "metadata": {},
     "output_type": "execute_result"
    }
   ],
   "source": [
    "print(pf1.dtypes)\n",
    "pf2.dtypes"
   ]
  },
  {
   "cell_type": "code",
   "execution_count": 16,
   "metadata": {},
   "outputs": [],
   "source": [
    "pf1['ID'] = pf1['ID'].astype(int)"
   ]
  },
  {
   "cell_type": "code",
   "execution_count": 17,
   "metadata": {},
   "outputs": [],
   "source": [
    "pf0 = pd.merge(pf1, pf2[[\"ID\",\"Release Date\"]], on=\"ID\", how=\"left\")"
   ]
  },
  {
   "cell_type": "code",
   "execution_count": 18,
   "metadata": {
    "scrolled": true
   },
   "outputs": [
    {
     "data": {
      "text/html": [
       "<div>\n",
       "<style scoped>\n",
       "    .dataframe tbody tr th:only-of-type {\n",
       "        vertical-align: middle;\n",
       "    }\n",
       "\n",
       "    .dataframe tbody tr th {\n",
       "        vertical-align: top;\n",
       "    }\n",
       "\n",
       "    .dataframe thead th {\n",
       "        text-align: right;\n",
       "    }\n",
       "</style>\n",
       "<table border=\"1\" class=\"dataframe\">\n",
       "  <thead>\n",
       "    <tr style=\"text-align: right;\">\n",
       "      <th></th>\n",
       "      <th>Fiscal Year</th>\n",
       "      <th>Fiscal Quarter</th>\n",
       "      <th>ACT EPS</th>\n",
       "      <th>WS EPS Est</th>\n",
       "      <th>ESZ EPS Est</th>\n",
       "      <th>Release Date_x</th>\n",
       "      <th>ID</th>\n",
       "      <th>symbol</th>\n",
       "      <th>fiscalDate</th>\n",
       "      <th>Actual EPS vs WS</th>\n",
       "      <th>...</th>\n",
       "      <th>close</th>\n",
       "      <th>Per1d</th>\n",
       "      <th>Per2d</th>\n",
       "      <th>Per3d</th>\n",
       "      <th>Per5d</th>\n",
       "      <th>shortName</th>\n",
       "      <th>refSectorShort</th>\n",
       "      <th>mktCap</th>\n",
       "      <th>Earnings Surprise %</th>\n",
       "      <th>Release Date_y</th>\n",
       "    </tr>\n",
       "  </thead>\n",
       "  <tbody>\n",
       "    <tr>\n",
       "      <td>0</td>\n",
       "      <td>2018.0</td>\n",
       "      <td>1.0</td>\n",
       "      <td>3.89</td>\n",
       "      <td>3.843</td>\n",
       "      <td>3.844296</td>\n",
       "      <td>2018-02-01</td>\n",
       "      <td>131754</td>\n",
       "      <td>AAPL</td>\n",
       "      <td>2018 Q1</td>\n",
       "      <td>Beat</td>\n",
       "      <td>...</td>\n",
       "      <td>167.78</td>\n",
       "      <td>-4.339015</td>\n",
       "      <td>-6.729050</td>\n",
       "      <td>-2.831088</td>\n",
       "      <td>-7.527715</td>\n",
       "      <td>SPX 100</td>\n",
       "      <td>E Technology</td>\n",
       "      <td>Mega Cap</td>\n",
       "      <td>1.188886</td>\n",
       "      <td>2018-02-01T16:00:00-05:00</td>\n",
       "    </tr>\n",
       "    <tr>\n",
       "      <td>1</td>\n",
       "      <td>2018.0</td>\n",
       "      <td>2.0</td>\n",
       "      <td>2.73</td>\n",
       "      <td>2.670</td>\n",
       "      <td>2.724264</td>\n",
       "      <td>2018-05-01</td>\n",
       "      <td>133987</td>\n",
       "      <td>AAPL</td>\n",
       "      <td>2018 Q2</td>\n",
       "      <td>Beat</td>\n",
       "      <td>...</td>\n",
       "      <td>169.10</td>\n",
       "      <td>4.417504</td>\n",
       "      <td>4.606742</td>\n",
       "      <td>8.710822</td>\n",
       "      <td>10.023655</td>\n",
       "      <td>SPX 100</td>\n",
       "      <td>E Technology</td>\n",
       "      <td>Mega Cap</td>\n",
       "      <td>0.210568</td>\n",
       "      <td>2018-05-01T16:00:00-04:00</td>\n",
       "    </tr>\n",
       "    <tr>\n",
       "      <td>2</td>\n",
       "      <td>2018.0</td>\n",
       "      <td>3.0</td>\n",
       "      <td>2.34</td>\n",
       "      <td>2.173</td>\n",
       "      <td>2.217906</td>\n",
       "      <td>2018-07-31</td>\n",
       "      <td>136224</td>\n",
       "      <td>AAPL</td>\n",
       "      <td>2018 Q3</td>\n",
       "      <td>Beat</td>\n",
       "      <td>...</td>\n",
       "      <td>190.29</td>\n",
       "      <td>5.891008</td>\n",
       "      <td>8.986284</td>\n",
       "      <td>9.301592</td>\n",
       "      <td>8.839140</td>\n",
       "      <td>SPX 100</td>\n",
       "      <td>E Technology</td>\n",
       "      <td>Mega Cap</td>\n",
       "      <td>5.504926</td>\n",
       "      <td>2018-07-31T16:00:00-04:00</td>\n",
       "    </tr>\n",
       "    <tr>\n",
       "      <td>3</td>\n",
       "      <td>2018.0</td>\n",
       "      <td>4.0</td>\n",
       "      <td>2.91</td>\n",
       "      <td>2.788</td>\n",
       "      <td>2.842092</td>\n",
       "      <td>2018-11-01</td>\n",
       "      <td>146839</td>\n",
       "      <td>AAPL</td>\n",
       "      <td>2018 Q4</td>\n",
       "      <td>Beat</td>\n",
       "      <td>...</td>\n",
       "      <td>222.22</td>\n",
       "      <td>-6.633066</td>\n",
       "      <td>-9.283593</td>\n",
       "      <td>-8.302583</td>\n",
       "      <td>-6.178562</td>\n",
       "      <td>SPX 100</td>\n",
       "      <td>E Technology</td>\n",
       "      <td>Mega Cap</td>\n",
       "      <td>2.389383</td>\n",
       "      <td>2018-11-01T16:00:00-04:00</td>\n",
       "    </tr>\n",
       "    <tr>\n",
       "      <td>4</td>\n",
       "      <td>2019.0</td>\n",
       "      <td>1.0</td>\n",
       "      <td>4.18</td>\n",
       "      <td>4.170</td>\n",
       "      <td>4.183036</td>\n",
       "      <td>2019-01-29</td>\n",
       "      <td>149518</td>\n",
       "      <td>AAPL</td>\n",
       "      <td>2019 Q1</td>\n",
       "      <td>Beat</td>\n",
       "      <td>...</td>\n",
       "      <td>154.68</td>\n",
       "      <td>6.833463</td>\n",
       "      <td>7.602793</td>\n",
       "      <td>7.654513</td>\n",
       "      <td>12.606672</td>\n",
       "      <td>SPX 100</td>\n",
       "      <td>E Technology</td>\n",
       "      <td>Mega Cap</td>\n",
       "      <td>-0.072571</td>\n",
       "      <td>2019-01-29T16:00:00-05:00</td>\n",
       "    </tr>\n",
       "  </tbody>\n",
       "</table>\n",
       "<p>5 rows × 25 columns</p>\n",
       "</div>"
      ],
      "text/plain": [
       "   Fiscal Year  Fiscal Quarter  ACT EPS  WS EPS Est  ESZ EPS Est  \\\n",
       "0       2018.0             1.0     3.89       3.843     3.844296   \n",
       "1       2018.0             2.0     2.73       2.670     2.724264   \n",
       "2       2018.0             3.0     2.34       2.173     2.217906   \n",
       "3       2018.0             4.0     2.91       2.788     2.842092   \n",
       "4       2019.0             1.0     4.18       4.170     4.183036   \n",
       "\n",
       "  Release Date_x      ID symbol fiscalDate Actual EPS vs WS  ...   close  \\\n",
       "0     2018-02-01  131754   AAPL    2018 Q1             Beat  ...  167.78   \n",
       "1     2018-05-01  133987   AAPL    2018 Q2             Beat  ...  169.10   \n",
       "2     2018-07-31  136224   AAPL    2018 Q3             Beat  ...  190.29   \n",
       "3     2018-11-01  146839   AAPL    2018 Q4             Beat  ...  222.22   \n",
       "4     2019-01-29  149518   AAPL    2019 Q1             Beat  ...  154.68   \n",
       "\n",
       "      Per1d     Per2d     Per3d      Per5d  shortName  refSectorShort  \\\n",
       "0 -4.339015 -6.729050 -2.831088  -7.527715    SPX 100    E Technology   \n",
       "1  4.417504  4.606742  8.710822  10.023655    SPX 100    E Technology   \n",
       "2  5.891008  8.986284  9.301592   8.839140    SPX 100    E Technology   \n",
       "3 -6.633066 -9.283593 -8.302583  -6.178562    SPX 100    E Technology   \n",
       "4  6.833463  7.602793  7.654513  12.606672    SPX 100    E Technology   \n",
       "\n",
       "     mktCap  Earnings Surprise %             Release Date_y  \n",
       "0  Mega Cap             1.188886  2018-02-01T16:00:00-05:00  \n",
       "1  Mega Cap             0.210568  2018-05-01T16:00:00-04:00  \n",
       "2  Mega Cap             5.504926  2018-07-31T16:00:00-04:00  \n",
       "3  Mega Cap             2.389383  2018-11-01T16:00:00-04:00  \n",
       "4  Mega Cap            -0.072571  2019-01-29T16:00:00-05:00  \n",
       "\n",
       "[5 rows x 25 columns]"
      ]
     },
     "execution_count": 18,
     "metadata": {},
     "output_type": "execute_result"
    }
   ],
   "source": [
    "pf0.head()"
   ]
  },
  {
   "cell_type": "code",
   "execution_count": 19,
   "metadata": {},
   "outputs": [
    {
     "data": {
      "text/plain": [
       "(1306, 25)"
      ]
     },
     "execution_count": 19,
     "metadata": {},
     "output_type": "execute_result"
    }
   ],
   "source": [
    "pf0.shape"
   ]
  },
  {
   "cell_type": "code",
   "execution_count": 24,
   "metadata": {},
   "outputs": [],
   "source": [
    "pf = pf0.drop(['Release Date_y'], axis = 1, inplace = False)"
   ]
  },
  {
   "cell_type": "code",
   "execution_count": 25,
   "metadata": {
    "scrolled": true
   },
   "outputs": [
    {
     "data": {
      "text/plain": [
       "Fiscal Year             0\n",
       "Fiscal Quarter          0\n",
       "ACT EPS                 0\n",
       "WS EPS Est              2\n",
       "ESZ EPS Est             0\n",
       "Release Date_x          0\n",
       "ID                      0\n",
       "symbol                  0\n",
       "fiscalDate              0\n",
       "Actual EPS vs WS        2\n",
       "WS EPS Dif              2\n",
       "WS EPS % Dif            7\n",
       "Actual EPS vs ESZ       0\n",
       "ESZ EPS Dif             0\n",
       "ESZ EPS % Dif           5\n",
       "close                  65\n",
       "Per1d                  65\n",
       "Per2d                  65\n",
       "Per3d                  65\n",
       "Per5d                  65\n",
       "shortName              65\n",
       "refSectorShort          0\n",
       "mktCap                  0\n",
       "Earnings Surprise %     0\n",
       "dtype: int64"
      ]
     },
     "execution_count": 25,
     "metadata": {},
     "output_type": "execute_result"
    }
   ],
   "source": [
    "pf.isnull().sum()"
   ]
  },
  {
   "cell_type": "code",
   "execution_count": 28,
   "metadata": {},
   "outputs": [
    {
     "data": {
      "text/plain": [
       "(1235, 24)"
      ]
     },
     "execution_count": 28,
     "metadata": {},
     "output_type": "execute_result"
    }
   ],
   "source": [
    "pf.shape"
   ]
  },
  {
   "cell_type": "code",
   "execution_count": 27,
   "metadata": {},
   "outputs": [],
   "source": [
    "pf = pf.dropna()"
   ]
  },
  {
   "cell_type": "code",
   "execution_count": 29,
   "metadata": {},
   "outputs": [],
   "source": [
    "pf['m_cluster'] = np.zeros(np.shape(pf)[0])\n",
    "pf['dir_cluster'] = np.zeros(np.shape(pf)[0])"
   ]
  },
  {
   "cell_type": "code",
   "execution_count": 30,
   "metadata": {},
   "outputs": [
    {
     "name": "stderr",
     "output_type": "stream",
     "text": [
      "C:\\Users\\omesh\\Anaconda3\\lib\\site-packages\\pandas\\core\\indexing.py:205: SettingWithCopyWarning: \n",
      "A value is trying to be set on a copy of a slice from a DataFrame\n",
      "\n",
      "See the caveats in the documentation: http://pandas.pydata.org/pandas-docs/stable/user_guide/indexing.html#returning-a-view-versus-a-copy\n",
      "  self._setitem_with_indexer(indexer, value)\n"
     ]
    }
   ],
   "source": [
    "for i in range(np.shape(pf)[0]):\n",
    "    if pf['Per5d'].iloc[i]>=-10 and pf['Per5d'].iloc[i] <0:\n",
    "        pf['m_cluster'].iloc[i] = 1\n",
    "    elif pf['Per5d'].iloc[i] <= 10 and pf['Per5d'].iloc[i] >=0:\n",
    "        pf['m_cluster'].iloc[i] = 2\n",
    "    elif pf['Per5d'].iloc[i] > 10:\n",
    "        pf['m_cluster'].iloc[i] = 3"
   ]
  },
  {
   "cell_type": "code",
   "execution_count": 31,
   "metadata": {},
   "outputs": [
    {
     "data": {
      "text/plain": [
       "0       1.0\n",
       "1       3.0\n",
       "2       2.0\n",
       "3       1.0\n",
       "4       3.0\n",
       "       ... \n",
       "1236    0.0\n",
       "1237    0.0\n",
       "1238    0.0\n",
       "1239    2.0\n",
       "1240    1.0\n",
       "Name: m_cluster, Length: 1235, dtype: float64"
      ]
     },
     "execution_count": 31,
     "metadata": {},
     "output_type": "execute_result"
    }
   ],
   "source": [
    "pf['m_cluster']"
   ]
  },
  {
   "cell_type": "code",
   "execution_count": 33,
   "metadata": {},
   "outputs": [],
   "source": [
    "for i in range(np.shape(pf)[0]):\n",
    "    diff = pf['Per5d'].iloc[i] - pf['Per1d'].iloc[i]\n",
    "    if diff>2:\n",
    "        pf['dir_cluster'].iloc[i] = 2\n",
    "    elif diff<-2:\n",
    "        pf['dir_cluster'].iloc[i] = 0\n",
    "    else:\n",
    "        pf['dir_cluster'].iloc[i] = 1\n"
   ]
  },
  {
   "cell_type": "code",
   "execution_count": 34,
   "metadata": {},
   "outputs": [
    {
     "data": {
      "text/plain": [
       "0       0.0\n",
       "1       2.0\n",
       "2       2.0\n",
       "3       1.0\n",
       "4       2.0\n",
       "       ... \n",
       "1236    0.0\n",
       "1237    0.0\n",
       "1238    2.0\n",
       "1239    1.0\n",
       "1240    0.0\n",
       "Name: dir_cluster, Length: 1235, dtype: float64"
      ]
     },
     "execution_count": 34,
     "metadata": {},
     "output_type": "execute_result"
    }
   ],
   "source": [
    "pf['dir_cluster']"
   ]
  },
  {
   "cell_type": "code",
   "execution_count": 35,
   "metadata": {},
   "outputs": [],
   "source": [
    "pf['cluster_pair'] = '(' + pf[\"dir_cluster\"].astype(str) +','+ (pf[\"m_cluster\"].astype(int)).astype(str) + ')'"
   ]
  },
  {
   "cell_type": "code",
   "execution_count": 37,
   "metadata": {},
   "outputs": [],
   "source": [
    "pf['cluster_pair'] = '(' + (pf[\"dir_cluster\"].astype(int)).astype(str) +','+ (pf[\"m_cluster\"].astype(int)).astype(str) + ')'"
   ]
  },
  {
   "cell_type": "code",
   "execution_count": 38,
   "metadata": {
    "scrolled": true
   },
   "outputs": [
    {
     "data": {
      "text/html": [
       "<div>\n",
       "<style scoped>\n",
       "    .dataframe tbody tr th:only-of-type {\n",
       "        vertical-align: middle;\n",
       "    }\n",
       "\n",
       "    .dataframe tbody tr th {\n",
       "        vertical-align: top;\n",
       "    }\n",
       "\n",
       "    .dataframe thead th {\n",
       "        text-align: right;\n",
       "    }\n",
       "</style>\n",
       "<table border=\"1\" class=\"dataframe\">\n",
       "  <thead>\n",
       "    <tr style=\"text-align: right;\">\n",
       "      <th></th>\n",
       "      <th>Per5d</th>\n",
       "      <th>dir_cluster</th>\n",
       "      <th>m_cluster</th>\n",
       "      <th>cluster_pair</th>\n",
       "    </tr>\n",
       "  </thead>\n",
       "  <tbody>\n",
       "    <tr>\n",
       "      <td>0</td>\n",
       "      <td>-7.527715</td>\n",
       "      <td>0.0</td>\n",
       "      <td>1.0</td>\n",
       "      <td>(0,1)</td>\n",
       "    </tr>\n",
       "    <tr>\n",
       "      <td>1</td>\n",
       "      <td>10.023655</td>\n",
       "      <td>2.0</td>\n",
       "      <td>3.0</td>\n",
       "      <td>(2,3)</td>\n",
       "    </tr>\n",
       "    <tr>\n",
       "      <td>2</td>\n",
       "      <td>8.839140</td>\n",
       "      <td>2.0</td>\n",
       "      <td>2.0</td>\n",
       "      <td>(2,2)</td>\n",
       "    </tr>\n",
       "    <tr>\n",
       "      <td>3</td>\n",
       "      <td>-6.178562</td>\n",
       "      <td>1.0</td>\n",
       "      <td>1.0</td>\n",
       "      <td>(1,1)</td>\n",
       "    </tr>\n",
       "    <tr>\n",
       "      <td>4</td>\n",
       "      <td>12.606672</td>\n",
       "      <td>2.0</td>\n",
       "      <td>3.0</td>\n",
       "      <td>(2,3)</td>\n",
       "    </tr>\n",
       "    <tr>\n",
       "      <td>...</td>\n",
       "      <td>...</td>\n",
       "      <td>...</td>\n",
       "      <td>...</td>\n",
       "      <td>...</td>\n",
       "    </tr>\n",
       "    <tr>\n",
       "      <td>1236</td>\n",
       "      <td>-11.770428</td>\n",
       "      <td>0.0</td>\n",
       "      <td>0.0</td>\n",
       "      <td>(0,0)</td>\n",
       "    </tr>\n",
       "    <tr>\n",
       "      <td>1237</td>\n",
       "      <td>-19.810933</td>\n",
       "      <td>0.0</td>\n",
       "      <td>0.0</td>\n",
       "      <td>(0,0)</td>\n",
       "    </tr>\n",
       "    <tr>\n",
       "      <td>1238</td>\n",
       "      <td>-26.783920</td>\n",
       "      <td>2.0</td>\n",
       "      <td>0.0</td>\n",
       "      <td>(2,0)</td>\n",
       "    </tr>\n",
       "    <tr>\n",
       "      <td>1239</td>\n",
       "      <td>7.178751</td>\n",
       "      <td>1.0</td>\n",
       "      <td>2.0</td>\n",
       "      <td>(1,2)</td>\n",
       "    </tr>\n",
       "    <tr>\n",
       "      <td>1240</td>\n",
       "      <td>-6.225166</td>\n",
       "      <td>0.0</td>\n",
       "      <td>1.0</td>\n",
       "      <td>(0,1)</td>\n",
       "    </tr>\n",
       "  </tbody>\n",
       "</table>\n",
       "<p>1235 rows × 4 columns</p>\n",
       "</div>"
      ],
      "text/plain": [
       "          Per5d  dir_cluster  m_cluster cluster_pair\n",
       "0     -7.527715          0.0        1.0        (0,1)\n",
       "1     10.023655          2.0        3.0        (2,3)\n",
       "2      8.839140          2.0        2.0        (2,2)\n",
       "3     -6.178562          1.0        1.0        (1,1)\n",
       "4     12.606672          2.0        3.0        (2,3)\n",
       "...         ...          ...        ...          ...\n",
       "1236 -11.770428          0.0        0.0        (0,0)\n",
       "1237 -19.810933          0.0        0.0        (0,0)\n",
       "1238 -26.783920          2.0        0.0        (2,0)\n",
       "1239   7.178751          1.0        2.0        (1,2)\n",
       "1240  -6.225166          0.0        1.0        (0,1)\n",
       "\n",
       "[1235 rows x 4 columns]"
      ]
     },
     "execution_count": 38,
     "metadata": {},
     "output_type": "execute_result"
    }
   ],
   "source": [
    "pf[['Per5d','dir_cluster','m_cluster','cluster_pair']]"
   ]
  },
  {
   "cell_type": "code",
   "execution_count": 39,
   "metadata": {},
   "outputs": [],
   "source": [
    "pf['close_price_variation'] = np.zeros(np.shape(pf)[0])"
   ]
  },
  {
   "cell_type": "code",
   "execution_count": 40,
   "metadata": {},
   "outputs": [],
   "source": [
    "for i in range(np.shape(pf)[0]):\n",
    "    '''DIRECTION'''\n",
    "    \n",
    "    if pf['dir_cluster'].iloc[i] == 2:\n",
    "        last = 'Increasing'\n",
    "    elif pf['dir_cluster'].iloc[i] == 1:\n",
    "        last = 'Stable'\n",
    "    else:\n",
    "        last = 'Decreasing'\n",
    "        \n",
    "    '''MAGNITUDE'''\n",
    "    \n",
    "    if pf['m_cluster'].iloc[i] == 3:\n",
    "        first = 'Highly Positive'\n",
    "    elif pf['m_cluster'].iloc[i] == 2:\n",
    "        first = 'Positive'\n",
    "    elif pf['m_cluster'].iloc[i] == 1:\n",
    "        first = 'Negative'\n",
    "    else:\n",
    "        first = 'Highly Negative'\n",
    "        \n",
    "    pf['close_price_variation'].iloc[i] = first + ' & ' + last"
   ]
  },
  {
   "cell_type": "code",
   "execution_count": 41,
   "metadata": {},
   "outputs": [
    {
     "data": {
      "text/html": [
       "<div>\n",
       "<style scoped>\n",
       "    .dataframe tbody tr th:only-of-type {\n",
       "        vertical-align: middle;\n",
       "    }\n",
       "\n",
       "    .dataframe tbody tr th {\n",
       "        vertical-align: top;\n",
       "    }\n",
       "\n",
       "    .dataframe thead th {\n",
       "        text-align: right;\n",
       "    }\n",
       "</style>\n",
       "<table border=\"1\" class=\"dataframe\">\n",
       "  <thead>\n",
       "    <tr style=\"text-align: right;\">\n",
       "      <th></th>\n",
       "      <th>cluster_pair</th>\n",
       "      <th>close_price_variation</th>\n",
       "    </tr>\n",
       "  </thead>\n",
       "  <tbody>\n",
       "    <tr>\n",
       "      <td>0</td>\n",
       "      <td>(0,1)</td>\n",
       "      <td>Negative &amp; Decreasing</td>\n",
       "    </tr>\n",
       "    <tr>\n",
       "      <td>1</td>\n",
       "      <td>(2,3)</td>\n",
       "      <td>Highly Positive &amp; Increasing</td>\n",
       "    </tr>\n",
       "    <tr>\n",
       "      <td>2</td>\n",
       "      <td>(2,2)</td>\n",
       "      <td>Positive &amp; Increasing</td>\n",
       "    </tr>\n",
       "    <tr>\n",
       "      <td>3</td>\n",
       "      <td>(1,1)</td>\n",
       "      <td>Negative &amp; Stable</td>\n",
       "    </tr>\n",
       "    <tr>\n",
       "      <td>4</td>\n",
       "      <td>(2,3)</td>\n",
       "      <td>Highly Positive &amp; Increasing</td>\n",
       "    </tr>\n",
       "    <tr>\n",
       "      <td>...</td>\n",
       "      <td>...</td>\n",
       "      <td>...</td>\n",
       "    </tr>\n",
       "    <tr>\n",
       "      <td>1236</td>\n",
       "      <td>(0,0)</td>\n",
       "      <td>Highly Negative &amp; Decreasing</td>\n",
       "    </tr>\n",
       "    <tr>\n",
       "      <td>1237</td>\n",
       "      <td>(0,0)</td>\n",
       "      <td>Highly Negative &amp; Decreasing</td>\n",
       "    </tr>\n",
       "    <tr>\n",
       "      <td>1238</td>\n",
       "      <td>(2,0)</td>\n",
       "      <td>Highly Negative &amp; Increasing</td>\n",
       "    </tr>\n",
       "    <tr>\n",
       "      <td>1239</td>\n",
       "      <td>(1,2)</td>\n",
       "      <td>Positive &amp; Stable</td>\n",
       "    </tr>\n",
       "    <tr>\n",
       "      <td>1240</td>\n",
       "      <td>(0,1)</td>\n",
       "      <td>Negative &amp; Decreasing</td>\n",
       "    </tr>\n",
       "  </tbody>\n",
       "</table>\n",
       "<p>1235 rows × 2 columns</p>\n",
       "</div>"
      ],
      "text/plain": [
       "     cluster_pair         close_price_variation\n",
       "0           (0,1)         Negative & Decreasing\n",
       "1           (2,3)  Highly Positive & Increasing\n",
       "2           (2,2)         Positive & Increasing\n",
       "3           (1,1)             Negative & Stable\n",
       "4           (2,3)  Highly Positive & Increasing\n",
       "...           ...                           ...\n",
       "1236        (0,0)  Highly Negative & Decreasing\n",
       "1237        (0,0)  Highly Negative & Decreasing\n",
       "1238        (2,0)  Highly Negative & Increasing\n",
       "1239        (1,2)             Positive & Stable\n",
       "1240        (0,1)         Negative & Decreasing\n",
       "\n",
       "[1235 rows x 2 columns]"
      ]
     },
     "execution_count": 41,
     "metadata": {},
     "output_type": "execute_result"
    }
   ],
   "source": [
    "pf[['cluster_pair','close_price_variation']]"
   ]
  },
  {
   "cell_type": "code",
   "execution_count": 42,
   "metadata": {
    "scrolled": true
   },
   "outputs": [
    {
     "data": {
      "text/html": [
       "<div>\n",
       "<style scoped>\n",
       "    .dataframe tbody tr th:only-of-type {\n",
       "        vertical-align: middle;\n",
       "    }\n",
       "\n",
       "    .dataframe tbody tr th {\n",
       "        vertical-align: top;\n",
       "    }\n",
       "\n",
       "    .dataframe thead th {\n",
       "        text-align: right;\n",
       "    }\n",
       "</style>\n",
       "<table border=\"1\" class=\"dataframe\">\n",
       "  <thead>\n",
       "    <tr style=\"text-align: right;\">\n",
       "      <th></th>\n",
       "      <th>Fiscal Year</th>\n",
       "      <th>Fiscal Quarter</th>\n",
       "      <th>ACT EPS</th>\n",
       "      <th>WS EPS Est</th>\n",
       "      <th>ESZ EPS Est</th>\n",
       "      <th>Release Date_x</th>\n",
       "      <th>ID</th>\n",
       "      <th>symbol</th>\n",
       "      <th>fiscalDate</th>\n",
       "      <th>Actual EPS vs WS</th>\n",
       "      <th>...</th>\n",
       "      <th>Per3d</th>\n",
       "      <th>Per5d</th>\n",
       "      <th>shortName</th>\n",
       "      <th>refSectorShort</th>\n",
       "      <th>mktCap</th>\n",
       "      <th>Earnings Surprise %</th>\n",
       "      <th>m_cluster</th>\n",
       "      <th>dir_cluster</th>\n",
       "      <th>cluster_pair</th>\n",
       "      <th>close_price_variation</th>\n",
       "    </tr>\n",
       "  </thead>\n",
       "  <tbody>\n",
       "    <tr>\n",
       "      <td>0</td>\n",
       "      <td>2018.0</td>\n",
       "      <td>1.0</td>\n",
       "      <td>3.89</td>\n",
       "      <td>3.843</td>\n",
       "      <td>3.844296</td>\n",
       "      <td>2018-02-01</td>\n",
       "      <td>131754</td>\n",
       "      <td>AAPL</td>\n",
       "      <td>2018 Q1</td>\n",
       "      <td>Beat</td>\n",
       "      <td>...</td>\n",
       "      <td>-2.831088</td>\n",
       "      <td>-7.527715</td>\n",
       "      <td>SPX 100</td>\n",
       "      <td>E Technology</td>\n",
       "      <td>Mega Cap</td>\n",
       "      <td>1.188886</td>\n",
       "      <td>1.0</td>\n",
       "      <td>0.0</td>\n",
       "      <td>(0,1)</td>\n",
       "      <td>Negative &amp; Decreasing</td>\n",
       "    </tr>\n",
       "    <tr>\n",
       "      <td>1</td>\n",
       "      <td>2018.0</td>\n",
       "      <td>2.0</td>\n",
       "      <td>2.73</td>\n",
       "      <td>2.670</td>\n",
       "      <td>2.724264</td>\n",
       "      <td>2018-05-01</td>\n",
       "      <td>133987</td>\n",
       "      <td>AAPL</td>\n",
       "      <td>2018 Q2</td>\n",
       "      <td>Beat</td>\n",
       "      <td>...</td>\n",
       "      <td>8.710822</td>\n",
       "      <td>10.023655</td>\n",
       "      <td>SPX 100</td>\n",
       "      <td>E Technology</td>\n",
       "      <td>Mega Cap</td>\n",
       "      <td>0.210568</td>\n",
       "      <td>3.0</td>\n",
       "      <td>2.0</td>\n",
       "      <td>(2,3)</td>\n",
       "      <td>Highly Positive &amp; Increasing</td>\n",
       "    </tr>\n",
       "    <tr>\n",
       "      <td>2</td>\n",
       "      <td>2018.0</td>\n",
       "      <td>3.0</td>\n",
       "      <td>2.34</td>\n",
       "      <td>2.173</td>\n",
       "      <td>2.217906</td>\n",
       "      <td>2018-07-31</td>\n",
       "      <td>136224</td>\n",
       "      <td>AAPL</td>\n",
       "      <td>2018 Q3</td>\n",
       "      <td>Beat</td>\n",
       "      <td>...</td>\n",
       "      <td>9.301592</td>\n",
       "      <td>8.839140</td>\n",
       "      <td>SPX 100</td>\n",
       "      <td>E Technology</td>\n",
       "      <td>Mega Cap</td>\n",
       "      <td>5.504926</td>\n",
       "      <td>2.0</td>\n",
       "      <td>2.0</td>\n",
       "      <td>(2,2)</td>\n",
       "      <td>Positive &amp; Increasing</td>\n",
       "    </tr>\n",
       "    <tr>\n",
       "      <td>3</td>\n",
       "      <td>2018.0</td>\n",
       "      <td>4.0</td>\n",
       "      <td>2.91</td>\n",
       "      <td>2.788</td>\n",
       "      <td>2.842092</td>\n",
       "      <td>2018-11-01</td>\n",
       "      <td>146839</td>\n",
       "      <td>AAPL</td>\n",
       "      <td>2018 Q4</td>\n",
       "      <td>Beat</td>\n",
       "      <td>...</td>\n",
       "      <td>-8.302583</td>\n",
       "      <td>-6.178562</td>\n",
       "      <td>SPX 100</td>\n",
       "      <td>E Technology</td>\n",
       "      <td>Mega Cap</td>\n",
       "      <td>2.389383</td>\n",
       "      <td>1.0</td>\n",
       "      <td>1.0</td>\n",
       "      <td>(1,1)</td>\n",
       "      <td>Negative &amp; Stable</td>\n",
       "    </tr>\n",
       "    <tr>\n",
       "      <td>4</td>\n",
       "      <td>2019.0</td>\n",
       "      <td>1.0</td>\n",
       "      <td>4.18</td>\n",
       "      <td>4.170</td>\n",
       "      <td>4.183036</td>\n",
       "      <td>2019-01-29</td>\n",
       "      <td>149518</td>\n",
       "      <td>AAPL</td>\n",
       "      <td>2019 Q1</td>\n",
       "      <td>Beat</td>\n",
       "      <td>...</td>\n",
       "      <td>7.654513</td>\n",
       "      <td>12.606672</td>\n",
       "      <td>SPX 100</td>\n",
       "      <td>E Technology</td>\n",
       "      <td>Mega Cap</td>\n",
       "      <td>-0.072571</td>\n",
       "      <td>3.0</td>\n",
       "      <td>2.0</td>\n",
       "      <td>(2,3)</td>\n",
       "      <td>Highly Positive &amp; Increasing</td>\n",
       "    </tr>\n",
       "  </tbody>\n",
       "</table>\n",
       "<p>5 rows × 28 columns</p>\n",
       "</div>"
      ],
      "text/plain": [
       "   Fiscal Year  Fiscal Quarter  ACT EPS  WS EPS Est  ESZ EPS Est  \\\n",
       "0       2018.0             1.0     3.89       3.843     3.844296   \n",
       "1       2018.0             2.0     2.73       2.670     2.724264   \n",
       "2       2018.0             3.0     2.34       2.173     2.217906   \n",
       "3       2018.0             4.0     2.91       2.788     2.842092   \n",
       "4       2019.0             1.0     4.18       4.170     4.183036   \n",
       "\n",
       "  Release Date_x      ID symbol fiscalDate Actual EPS vs WS  ...     Per3d  \\\n",
       "0     2018-02-01  131754   AAPL    2018 Q1             Beat  ... -2.831088   \n",
       "1     2018-05-01  133987   AAPL    2018 Q2             Beat  ...  8.710822   \n",
       "2     2018-07-31  136224   AAPL    2018 Q3             Beat  ...  9.301592   \n",
       "3     2018-11-01  146839   AAPL    2018 Q4             Beat  ... -8.302583   \n",
       "4     2019-01-29  149518   AAPL    2019 Q1             Beat  ...  7.654513   \n",
       "\n",
       "       Per5d shortName  refSectorShort    mktCap  Earnings Surprise %  \\\n",
       "0  -7.527715   SPX 100    E Technology  Mega Cap             1.188886   \n",
       "1  10.023655   SPX 100    E Technology  Mega Cap             0.210568   \n",
       "2   8.839140   SPX 100    E Technology  Mega Cap             5.504926   \n",
       "3  -6.178562   SPX 100    E Technology  Mega Cap             2.389383   \n",
       "4  12.606672   SPX 100    E Technology  Mega Cap            -0.072571   \n",
       "\n",
       "   m_cluster  dir_cluster  cluster_pair         close_price_variation  \n",
       "0        1.0          0.0         (0,1)         Negative & Decreasing  \n",
       "1        3.0          2.0         (2,3)  Highly Positive & Increasing  \n",
       "2        2.0          2.0         (2,2)         Positive & Increasing  \n",
       "3        1.0          1.0         (1,1)             Negative & Stable  \n",
       "4        3.0          2.0         (2,3)  Highly Positive & Increasing  \n",
       "\n",
       "[5 rows x 28 columns]"
      ]
     },
     "execution_count": 42,
     "metadata": {},
     "output_type": "execute_result"
    }
   ],
   "source": [
    "pf.head()"
   ]
  },
  {
   "cell_type": "code",
   "execution_count": 43,
   "metadata": {},
   "outputs": [],
   "source": [
    "pf.to_csv('PF_Clustering1.csv', index = False, encoding='utf-8-sig')"
   ]
  },
  {
   "cell_type": "code",
   "execution_count": 44,
   "metadata": {},
   "outputs": [],
   "source": [
    "cl_avg = pf.groupby('close_price_variation', as_index = False).agg({'Per1d': 'mean','Per2d': 'mean','Per3d': 'mean','Per5d': 'mean'})"
   ]
  },
  {
   "cell_type": "code",
   "execution_count": 45,
   "metadata": {
    "scrolled": true
   },
   "outputs": [
    {
     "data": {
      "text/html": [
       "<div>\n",
       "<style scoped>\n",
       "    .dataframe tbody tr th:only-of-type {\n",
       "        vertical-align: middle;\n",
       "    }\n",
       "\n",
       "    .dataframe tbody tr th {\n",
       "        vertical-align: top;\n",
       "    }\n",
       "\n",
       "    .dataframe thead th {\n",
       "        text-align: right;\n",
       "    }\n",
       "</style>\n",
       "<table border=\"1\" class=\"dataframe\">\n",
       "  <thead>\n",
       "    <tr style=\"text-align: right;\">\n",
       "      <th></th>\n",
       "      <th>close_price_variation</th>\n",
       "      <th>Per1d</th>\n",
       "      <th>Per2d</th>\n",
       "      <th>Per3d</th>\n",
       "      <th>Per5d</th>\n",
       "    </tr>\n",
       "  </thead>\n",
       "  <tbody>\n",
       "    <tr>\n",
       "      <td>0</td>\n",
       "      <td>Highly Negative &amp; Decreasing</td>\n",
       "      <td>-8.816956</td>\n",
       "      <td>-11.758343</td>\n",
       "      <td>-13.564116</td>\n",
       "      <td>-15.552688</td>\n",
       "    </tr>\n",
       "    <tr>\n",
       "      <td>1</td>\n",
       "      <td>Highly Negative &amp; Increasing</td>\n",
       "      <td>-25.268218</td>\n",
       "      <td>-23.272759</td>\n",
       "      <td>-22.856126</td>\n",
       "      <td>-20.867139</td>\n",
       "    </tr>\n",
       "    <tr>\n",
       "      <td>2</td>\n",
       "      <td>Highly Negative &amp; Stable</td>\n",
       "      <td>-16.520170</td>\n",
       "      <td>-14.738777</td>\n",
       "      <td>-15.911419</td>\n",
       "      <td>-16.442692</td>\n",
       "    </tr>\n",
       "    <tr>\n",
       "      <td>3</td>\n",
       "      <td>Highly Positive &amp; Decreasing</td>\n",
       "      <td>22.510622</td>\n",
       "      <td>20.234864</td>\n",
       "      <td>19.913810</td>\n",
       "      <td>16.736065</td>\n",
       "    </tr>\n",
       "    <tr>\n",
       "      <td>4</td>\n",
       "      <td>Highly Positive &amp; Increasing</td>\n",
       "      <td>9.789180</td>\n",
       "      <td>12.668195</td>\n",
       "      <td>14.379042</td>\n",
       "      <td>17.449232</td>\n",
       "    </tr>\n",
       "    <tr>\n",
       "      <td>5</td>\n",
       "      <td>Highly Positive &amp; Stable</td>\n",
       "      <td>16.118315</td>\n",
       "      <td>18.244286</td>\n",
       "      <td>17.842399</td>\n",
       "      <td>16.662897</td>\n",
       "    </tr>\n",
       "    <tr>\n",
       "      <td>6</td>\n",
       "      <td>Negative &amp; Decreasing</td>\n",
       "      <td>-0.403918</td>\n",
       "      <td>-1.541601</td>\n",
       "      <td>-2.637052</td>\n",
       "      <td>-4.736635</td>\n",
       "    </tr>\n",
       "    <tr>\n",
       "      <td>7</td>\n",
       "      <td>Negative &amp; Increasing</td>\n",
       "      <td>-6.874240</td>\n",
       "      <td>-5.366106</td>\n",
       "      <td>-4.248479</td>\n",
       "      <td>-2.873414</td>\n",
       "    </tr>\n",
       "    <tr>\n",
       "      <td>8</td>\n",
       "      <td>Negative &amp; Stable</td>\n",
       "      <td>-2.589826</td>\n",
       "      <td>-2.609996</td>\n",
       "      <td>-2.576960</td>\n",
       "      <td>-2.868564</td>\n",
       "    </tr>\n",
       "    <tr>\n",
       "      <td>9</td>\n",
       "      <td>Positive &amp; Decreasing</td>\n",
       "      <td>7.708479</td>\n",
       "      <td>6.562870</td>\n",
       "      <td>5.519745</td>\n",
       "      <td>3.741496</td>\n",
       "    </tr>\n",
       "    <tr>\n",
       "      <td>10</td>\n",
       "      <td>Positive &amp; Increasing</td>\n",
       "      <td>0.035226</td>\n",
       "      <td>1.225651</td>\n",
       "      <td>2.265179</td>\n",
       "      <td>4.089799</td>\n",
       "    </tr>\n",
       "    <tr>\n",
       "      <td>11</td>\n",
       "      <td>Positive &amp; Stable</td>\n",
       "      <td>2.022798</td>\n",
       "      <td>2.148107</td>\n",
       "      <td>2.204703</td>\n",
       "      <td>2.424917</td>\n",
       "    </tr>\n",
       "  </tbody>\n",
       "</table>\n",
       "</div>"
      ],
      "text/plain": [
       "           close_price_variation      Per1d      Per2d      Per3d      Per5d\n",
       "0   Highly Negative & Decreasing  -8.816956 -11.758343 -13.564116 -15.552688\n",
       "1   Highly Negative & Increasing -25.268218 -23.272759 -22.856126 -20.867139\n",
       "2       Highly Negative & Stable -16.520170 -14.738777 -15.911419 -16.442692\n",
       "3   Highly Positive & Decreasing  22.510622  20.234864  19.913810  16.736065\n",
       "4   Highly Positive & Increasing   9.789180  12.668195  14.379042  17.449232\n",
       "5       Highly Positive & Stable  16.118315  18.244286  17.842399  16.662897\n",
       "6          Negative & Decreasing  -0.403918  -1.541601  -2.637052  -4.736635\n",
       "7          Negative & Increasing  -6.874240  -5.366106  -4.248479  -2.873414\n",
       "8              Negative & Stable  -2.589826  -2.609996  -2.576960  -2.868564\n",
       "9          Positive & Decreasing   7.708479   6.562870   5.519745   3.741496\n",
       "10         Positive & Increasing   0.035226   1.225651   2.265179   4.089799\n",
       "11             Positive & Stable   2.022798   2.148107   2.204703   2.424917"
      ]
     },
     "execution_count": 45,
     "metadata": {},
     "output_type": "execute_result"
    }
   ],
   "source": [
    "cl_avg"
   ]
  },
  {
   "cell_type": "code",
   "execution_count": 46,
   "metadata": {},
   "outputs": [],
   "source": [
    "cl_avg.to_csv('PF_Cluster1.csv', index = False, encoding='utf-8-sig')"
   ]
  },
  {
   "cell_type": "code",
   "execution_count": 47,
   "metadata": {},
   "outputs": [
    {
     "data": {
      "text/plain": [
       "168"
      ]
     },
     "execution_count": 47,
     "metadata": {},
     "output_type": "execute_result"
    }
   ],
   "source": [
    "pf['symbol'].nunique()"
   ]
  }
 ],
 "metadata": {
  "kernelspec": {
   "display_name": "Python 3",
   "language": "python",
   "name": "python3"
  },
  "language_info": {
   "codemirror_mode": {
    "name": "ipython",
    "version": 3
   },
   "file_extension": ".py",
   "mimetype": "text/x-python",
   "name": "python",
   "nbconvert_exporter": "python",
   "pygments_lexer": "ipython3",
   "version": "3.7.3"
  }
 },
 "nbformat": 4,
 "nbformat_minor": 2
}
